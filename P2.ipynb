{
 "cells": [
  {
   "cell_type": "markdown",
   "metadata": {},
   "source": [
    "# CS-401: Milestone P2\n",
    "\n",
    "This notebook aims to provide a basic primary pre-processing and analysis of datasets that we will be using. The pre-processing pipeline is divided into three parts: loading, cleaning and merging. One can have a look of this pipeline in the `preprocessing` folder. For more information, look at the `README`.\n",
    "\n",
    "**Content of this notebook**\n",
    "- [Data Processing](#preprocessing)\n",
    "  - [Loading datasets](#1-load-the-data)\n",
    "  - [Cleaning](#2-basic-cleaning)\n",
    "  - [Merging](#3-merging-all-datasets)\n",
    "- [Basic Statistical Analysis](#exploratory--basic-analysis)\n",
    "  - [Handling Outlier](#1-outliers-removal)\n",
    "  - [Missing values analysis](#2-missing-values-analysis)\n",
    "  - [Key features' distribution](#3-distribution-of-key-features)\n",
    "  - [Rating vs Number of actress](#4-is-there-a-link-between-popularity-and-proportion-of-women-in-a-movie)\n",
    "  - [Age analysis](#5-is-there-a-difference-in-age-for-women)\n",
    "  - [Bechdel Test](#6-bechdel-test)\n",
    "- [Basic NLP on Summaries](#nlp-on-plot-summaries)\n",
    "  - [Preprocessing and Tokenization](#1-preprocessing-of-the-texts-and-cleaning)\n",
    "  - [Feminity Score](#2-feminity-score-analysis)\n",
    "\n",
    "\n",
    "---"
   ]
  },
  {
   "cell_type": "code",
   "execution_count": null,
   "metadata": {},
   "outputs": [],
   "source": [
    "import sys\n",
    "\n",
    "sys.path.append(\"./preprocessing\")\n",
    "sys.path.append(\"./analysis\")\n",
    "sys.path.append(\"./nlp\")\n",
    "\n",
    "import pandas as pd\n",
    "import matplotlib.pyplot as plt\n",
    "import numpy as np\n",
    "import seaborn as sns\n",
    "from scipy import stats\n",
    "\n",
    "# Our tools (see python files in preprocessing and analysis)\n",
    "import loader\n",
    "import cleaner\n",
    "import merger\n",
    "import visualizer as viz\n",
    "import nlp_utils as nlputils\n",
    "\n",
    "%load_ext autoreload\n",
    "%autoreload 2"
   ]
  },
  {
   "cell_type": "markdown",
   "metadata": {},
   "source": [
    "# Preprocessing"
   ]
  },
  {
   "cell_type": "markdown",
   "metadata": {},
   "source": [
    "**Skip this part and load the data directly. \n",
    "Cleaning and merging the data include scraping and can take several hours.**"
   ]
  },
  {
   "cell_type": "markdown",
   "metadata": {},
   "source": [
    "## 1. Load the data"
   ]
  },
  {
   "cell_type": "markdown",
   "metadata": {},
   "source": [
    "We first start by loading datasets. CMU dataset is loaded as well as external dataset like Bechdel and TMDB dataset since these will be useful later for a more in-depth analysis."
   ]
  },
  {
   "cell_type": "code",
   "execution_count": null,
   "metadata": {},
   "outputs": [],
   "source": [
    "# =============== LOADER =============== #\n",
    "# CMU Dataset\n",
    "character_df, movie_df = loader.load_CMU_dataset()\n",
    "summaries_df = loader.load_summaries()\n",
    "\n",
    "# External Dataset\n",
    "bechdel_df = loader.load_bechdel_dataset()\n",
    "credits_df, meta_df = loader.load_tmdb_dataset()"
   ]
  },
  {
   "cell_type": "markdown",
   "metadata": {},
   "source": [
    "## 2. Basic cleaning"
   ]
  },
  {
   "cell_type": "markdown",
   "metadata": {},
   "source": [
    "Here, we perform basic data cleaning operations on dataframes, such as renaming columns and converting date strings into Python datetime objects. To handle the credits dataframe, you can refer to the [clean_credit_df function](./preprocessing/cleaner.py#clean_credit_df). Our objective is to analyze women's representation in the film industry, and to do this, we require information about the gender of the crew members for movies. We observed that this information was frequently missing, while full names were always provided. As a solution, we utilized the `genderguesser` package to predict the gender based on the first name. This approach allows us to reduce the number of ungendered samples without discarding entire rows."
   ]
  },
  {
   "cell_type": "code",
   "execution_count": null,
   "metadata": {},
   "outputs": [],
   "source": [
    "# =============== CLEAN =============== #\n",
    "# Clean datasets\n",
    "\n",
    "movie_df = cleaner.clean_movie_df(movie_df)\n",
    "bechdel_df = cleaner.clean_bechdel_df(bechdel_df)\n",
    "credits_df = cleaner.clean_credit_df(credits_df, meta_df, scraping=True)\n",
    "meta_df = cleaner.clean_metadata_df(meta_df)"
   ]
  },
  {
   "cell_type": "markdown",
   "metadata": {},
   "source": [
    "## 3. Merging all datasets"
   ]
  },
  {
   "cell_type": "markdown",
   "metadata": {},
   "source": [
    "In this step, we combine all our datasets to create a final dataset named `movies`, which will contain all the necessary features for our analysis."
   ]
  },
  {
   "cell_type": "code",
   "execution_count": null,
   "metadata": {},
   "outputs": [],
   "source": [
    "# =============== MERGE =============== #\n",
    "# Merge datasets\n",
    "movies = merger.merge_with_char(movie_df, character_df)\n",
    "movies = merger.merge_with_summaries(movies, summaries_df)\n",
    "movies = merger.merge_with_metadata(movies, meta_df)\n",
    "movies = merger.merge_with_credits(movies, credits_df)\n",
    "\n",
    "# Put the actor_name column at the beginning since we have one row per actor name\n",
    "movies = movies.reindex(\n",
    "    columns=[\"actor_name\"] + [col for col in movies.columns if col != \"actor_name\"]\n",
    ")\n",
    "display(movies.sample(5))\n",
    "\n",
    "# It will be useful when we will analyze the effect of the bechdel score rating on\n",
    "# the women's representation in movies\n",
    "movies_with_bechdel = merger.merge_with_bechdel(movies, bechdel_df)"
   ]
  },
  {
   "cell_type": "markdown",
   "metadata": {},
   "source": [
    "4. Load clean and merged copy"
   ]
  },
  {
   "cell_type": "code",
   "execution_count": null,
   "metadata": {},
   "outputs": [],
   "source": [
    "# Alternatively:\n",
    "# You can directly load full cleaned and merged data\n",
    "movies = pd.read_pickle(\"./data/Processed/movies_cleaned.pkl\")\n",
    "movies_with_bechdel = pd.read_pickle(\"./data/Processed/movies_with_bechdel.pkl\")"
   ]
  },
  {
   "cell_type": "markdown",
   "metadata": {},
   "source": [
    "---"
   ]
  },
  {
   "cell_type": "markdown",
   "metadata": {},
   "source": [
    "# Exploratory & Basic Analysis"
   ]
  },
  {
   "cell_type": "markdown",
   "metadata": {},
   "source": [
    "Now, let's explore and try to understand the data. "
   ]
  },
  {
   "cell_type": "markdown",
   "metadata": {},
   "source": [
    "## 1. Outliers removal"
   ]
  },
  {
   "cell_type": "code",
   "execution_count": null,
   "metadata": {},
   "outputs": [],
   "source": [
    "movies.drop(columns=[\"wikiID\"]).describe()"
   ]
  },
  {
   "cell_type": "markdown",
   "metadata": {},
   "source": [
    "As one can see, there are outliers and dirty samples in the data: negative actor's ages, movies of 16h long, ... \n",
    "We will remove them in the next cell, outliers will be remove by quantile method (see [here](./preprocessing/cleaner.py#clean_remove_outlier))"
   ]
  },
  {
   "cell_type": "code",
   "execution_count": null,
   "metadata": {},
   "outputs": [],
   "source": [
    "movies = cleaner.clean_movies_ranges(movies)\n",
    "movies = cleaner.clean_remove_outlier(\n",
    "    movies, method=\"quantile\", name=\"actor_height_meters\"\n",
    ")\n",
    "movies = cleaner.clean_remove_outlier(movies, method=\"quantile\", name=\"movie_runtime\")\n",
    "\n",
    "movies.drop(columns=[\"wikiID\"]).describe()"
   ]
  },
  {
   "cell_type": "code",
   "execution_count": null,
   "metadata": {},
   "outputs": [],
   "source": [
    "viz.visualize_year_distribution(movies)"
   ]
  },
  {
   "cell_type": "markdown",
   "metadata": {},
   "source": [
    "With this cleaning, we are sure to have at least around 50 movies per year, from year 1935. "
   ]
  },
  {
   "cell_type": "markdown",
   "metadata": {},
   "source": [
    "## 2. Missing values analysis"
   ]
  },
  {
   "cell_type": "code",
   "execution_count": null,
   "metadata": {},
   "outputs": [],
   "source": [
    "viz.visualize_missing_values(movies)"
   ]
  },
  {
   "cell_type": "markdown",
   "metadata": {},
   "source": [
    "<div align=\"justify\">\n",
    "\n",
    "Based on the previous plot, it is evident that there are numerous missing values for the `writer` and `writer_gender` features. Given their limited usability due to this, it's necessary to remove them. Additionally, the `actor_ethni_fbid` feature, which would not have been utilized regardless, should also be dropped.\n",
    "\n",
    "This correspond to dropping colums with more than 50% of missing values.\n",
    "\n",
    "</div>"
   ]
  },
  {
   "cell_type": "code",
   "execution_count": null,
   "metadata": {},
   "outputs": [],
   "source": [
    "movies = cleaner.clean_missing_values_by_dropping(\n",
    "    movies, to_drop=[\"writer\", \"writer_gender\", \"actor_ethni_fbid\"]\n",
    ")\n",
    "display(movies.sample(2))"
   ]
  },
  {
   "cell_type": "markdown",
   "metadata": {},
   "source": [
    "Now our dataset is cleaned and useable!"
   ]
  },
  {
   "cell_type": "markdown",
   "metadata": {},
   "source": [
    "## 3. Distribution of Key Features"
   ]
  },
  {
   "cell_type": "markdown",
   "metadata": {},
   "source": [
    "In this section, we will examine the distribution of women in various sectors of the movie industry. To begin, let's visualize the distribution of men and women across three roles: actors, film directors, and producers."
   ]
  },
  {
   "cell_type": "code",
   "execution_count": null,
   "metadata": {},
   "outputs": [],
   "source": [
    "viz.visualize_gender_distribution(movies)"
   ]
  },
  {
   "cell_type": "markdown",
   "metadata": {},
   "source": [
    "One can clearly see that women are underrepresented both in front of the camera and behind the scenes. Actually, they are much less represented behind the camera than in front of it. This is a first interesting observation."
   ]
  },
  {
   "cell_type": "code",
   "execution_count": null,
   "metadata": {},
   "outputs": [],
   "source": [
    "viz.visualize_actors_distribution(movies)"
   ]
  },
  {
   "cell_type": "code",
   "execution_count": null,
   "metadata": {},
   "outputs": [],
   "source": [
    "male_female_prop = viz.visualize_gender_prop(movies)"
   ]
  },
  {
   "cell_type": "markdown",
   "metadata": {},
   "source": [
    "Here, it is evident that the proportion of movies with no women actors is significantly larger, while conversely, there is a substantial number of movies that feature only male actors.\n"
   ]
  },
  {
   "cell_type": "markdown",
   "metadata": {},
   "source": [
    "## 4. Is there a link between popularity and proportion of Women in a movie ?"
   ]
  },
  {
   "cell_type": "code",
   "execution_count": null,
   "metadata": {},
   "outputs": [],
   "source": [
    "movies_gender_prop = pd.merge(movies, male_female_prop, on=[\"wikiID\", \"year\"])\n",
    "movies_gender_prop.drop_duplicates(subset=[\"movie_title\"], inplace=True)"
   ]
  },
  {
   "cell_type": "code",
   "execution_count": null,
   "metadata": {},
   "outputs": [],
   "source": [
    "movies_gender_prop = movies_gender_prop.sort_values(\n",
    "    by=\"percents_of_female\", ascending=True\n",
    ")\n",
    "\n",
    "viz.visualize_regression(movies_gender_prop)"
   ]
  },
  {
   "cell_type": "markdown",
   "metadata": {},
   "source": [
    "We can observe a slight negative correlation, indicating that a movie that highlights women more is less well-received by the audience."
   ]
  },
  {
   "cell_type": "code",
   "execution_count": null,
   "metadata": {},
   "outputs": [],
   "source": [
    "# Compute Pearson Correlation between the popularity and the % of female actresses\n",
    "print(\n",
    "    stats.pearsonr(\n",
    "        movies_gender_prop[\"percents_of_female\"].astype(float),\n",
    "        movies_gender_prop[\"popularity\"].astype(float),\n",
    "    )\n",
    ")\n",
    "\n",
    "# Compute Pearson Correlation between the vote average and the % of female actresses\n",
    "print(\n",
    "    stats.pearsonr(\n",
    "        movies_gender_prop[\"percents_of_female\"], movies_gender_prop[\"vote_average\"]\n",
    "    )\n",
    ")"
   ]
  },
  {
   "cell_type": "markdown",
   "metadata": {},
   "source": [
    "**Conclusion** : Since the $p$-value is low, the result is significative and one can deduce a negative correlation between the proportion of female and the success of a movie. This is already useful to know since it will be used in milestone P3"
   ]
  },
  {
   "cell_type": "markdown",
   "metadata": {},
   "source": [
    "## 5. Is there a difference regarding age between men an women ?"
   ]
  },
  {
   "cell_type": "markdown",
   "metadata": {},
   "source": [
    "### 5.1 Average Difference ? "
   ]
  },
  {
   "cell_type": "code",
   "execution_count": null,
   "metadata": {},
   "outputs": [],
   "source": [
    "viz.visualize_age_distribution_by_gender(movies)"
   ]
  },
  {
   "cell_type": "markdown",
   "metadata": {},
   "source": [
    "We can observe that men are older in average. Let's make a $T$-test to see if the difference is significant."
   ]
  },
  {
   "cell_type": "code",
   "execution_count": null,
   "metadata": {},
   "outputs": [],
   "source": [
    "women_age = movies[movies[\"actor_gender\"] == \"F\"][\"actor_age_at_movie_release\"]\n",
    "men_age = movies[movies[\"actor_gender\"] == \"M\"][\"actor_age_at_movie_release\"]\n",
    "\n",
    "# T-test to determine if the difference in age between men and women is statistically significant\n",
    "print(stats.ttest_ind(women_age, men_age, nan_policy=\"omit\"))"
   ]
  },
  {
   "cell_type": "markdown",
   "metadata": {},
   "source": [
    "The results of the $T$-test suggest that there is a statistically significant difference in average age of actors ($p$-value < 0.05). As the $T$-statistic is strongly negative (-64), we conclude that actresses are significantly younger than male actors."
   ]
  },
  {
   "cell_type": "markdown",
   "metadata": {},
   "source": [
    "### 5.2 Evolution of age distribution in the movie industry"
   ]
  },
  {
   "cell_type": "code",
   "execution_count": null,
   "metadata": {},
   "outputs": [],
   "source": [
    "viz.visualize_age_evolution(movies)"
   ]
  },
  {
   "cell_type": "markdown",
   "metadata": {},
   "source": [
    "It's noticeable that from the 1920s onward, the film industry tends to depict male actors who are older than their female counterparts."
   ]
  },
  {
   "cell_type": "markdown",
   "metadata": {},
   "source": [
    "## 6. Bechdel test"
   ]
  },
  {
   "cell_type": "markdown",
   "metadata": {},
   "source": [
    "In this section we will start exploring the Bechdel dataset."
   ]
  },
  {
   "cell_type": "code",
   "execution_count": null,
   "metadata": {},
   "outputs": [],
   "source": [
    "bechdel_unique = viz.visualize_bechdel_distribution(movies_with_bechdel)\n",
    "print(\n",
    "    f\"The Bechdel dataset originally contains around 10'000 movies while when it is merged with the normal movies dataset, it contains only {len(bechdel_unique)} movies.\"\n",
    ")"
   ]
  },
  {
   "cell_type": "markdown",
   "metadata": {},
   "source": [
    "We see, with no surprize, that most movies entered in the Bechdel test are from the 2000s."
   ]
  },
  {
   "cell_type": "markdown",
   "metadata": {},
   "source": [
    "---"
   ]
  },
  {
   "cell_type": "markdown",
   "metadata": {},
   "source": [
    "# NLP on Plot Summaries"
   ]
  },
  {
   "cell_type": "markdown",
   "metadata": {},
   "source": [
    "The goal here is to preprocess the summaries by tokenizing them and then conduct an initial analysis of the \"feminism\" aspect in the summaries by calculating a basic \"femininity score.\" More in-depth analyses, including sentiment analysis, will be carried out in milestone P3."
   ]
  },
  {
   "cell_type": "markdown",
   "metadata": {},
   "source": [
    "\n",
    "\n",
    "## 1. Preprocessing of the texts and cleaning"
   ]
  },
  {
   "cell_type": "code",
   "execution_count": null,
   "metadata": {},
   "outputs": [],
   "source": [
    "nlp_summaries = movies[[\"wikiID\", \"movie_title\", \"summary\"]].drop_duplicates()\n",
    "display(nlp_summaries)"
   ]
  },
  {
   "cell_type": "markdown",
   "metadata": {},
   "source": [
    "Here, we apply the `clean_text()` from our `nlputils` module which clean the summaries by \n",
    "\n",
    "- converting all text to lowercase\n",
    "- removing any text within square brackets (e.g. citations)\n",
    "- removing all punctuation\n",
    "- removing any words containing numbers\n",
    "- removing any stop words (common words like \"the\", \"and\", etc.)"
   ]
  },
  {
   "cell_type": "code",
   "execution_count": null,
   "metadata": {},
   "outputs": [],
   "source": [
    "nlp_summaries[\"summary\"] = nlp_summaries[\"summary\"].apply(nlputils.clean_text)\n",
    "display(nlp_summaries.sample(2))"
   ]
  },
  {
   "cell_type": "markdown",
   "metadata": {},
   "source": [
    "### 1.1 Tokenization"
   ]
  },
  {
   "cell_type": "markdown",
   "metadata": {},
   "source": [
    "This step conducts a simple tokenization of summaries."
   ]
  },
  {
   "cell_type": "code",
   "execution_count": null,
   "metadata": {},
   "outputs": [],
   "source": [
    "nlp_summaries = nlputils.nlp_tokenize_summaries(nlp_summaries)\n",
    "display(nlp_summaries.sample(2))"
   ]
  },
  {
   "cell_type": "markdown",
   "metadata": {},
   "source": [
    "## 2. Gender score analysis"
   ]
  },
  {
   "cell_type": "markdown",
   "metadata": {},
   "source": [
    "### 2.1 Compute feminity and masculinity score\n",
    "\n",
    "Here we compute (a rather simplistic) femininity/ masculinity score of summaries using a list of [words designating females](./nlp/female_keywords.txt) and a list of [words designating males](./nlp/male_keywords.txt)"
   ]
  },
  {
   "cell_type": "code",
   "execution_count": null,
   "metadata": {},
   "outputs": [],
   "source": [
    "pd.set_option(\"display.max_columns\", None)\n",
    "women_nlp_summaries = nlputils.nlp_compute_feminity_score(nlp_summaries.copy())\n",
    "men_nlp_summaries = nlputils.nlp_compute_masculinity_score(nlp_summaries.copy())\n",
    "\n",
    "women_nlp_summaries = pd.merge(women_nlp_summaries, male_female_prop, on=[\"wikiID\"])\n",
    "men_nlp_summaries = pd.merge(men_nlp_summaries, male_female_prop, on=[\"wikiID\"])\n",
    "\n",
    "print(\n",
    "    stats.pearsonr(\n",
    "        women_nlp_summaries[\"feminity_score\"], women_nlp_summaries[\"percents_of_female\"]\n",
    "    )\n",
    ")\n",
    "\n",
    "print(\n",
    "    stats.pearsonr(\n",
    "        men_nlp_summaries[\"masculinity_score\"], women_nlp_summaries[\"percents_of_male\"]\n",
    "    )\n",
    ")"
   ]
  },
  {
   "cell_type": "markdown",
   "metadata": {},
   "source": [
    "In both case, the $p$-value is greater than 0.05 and the Pearson correlation coefficient is very small, indicating that we cannot reject the null hypothesis that there is no correlation between the proportion of men/women and the plot summary. Further analysis is required (will be done in milestone P3)."
   ]
  },
  {
   "cell_type": "markdown",
   "metadata": {},
   "source": [
    "### 2.2 Distribution of feminity/masculinity score"
   ]
  },
  {
   "cell_type": "code",
   "execution_count": null,
   "metadata": {},
   "outputs": [],
   "source": [
    "viz.visualize_feminity_score_distribution(women_nlp_summaries)"
   ]
  },
  {
   "cell_type": "markdown",
   "metadata": {},
   "source": [
    "As we can observe, there are numerous movies with a low femininity score, which confirms the findings of the previous test. It's also important to note that the femininity score is not perfect and rather simplistic. This will be enhanced in milestone P3."
   ]
  },
  {
   "cell_type": "code",
   "execution_count": null,
   "metadata": {},
   "outputs": [],
   "source": [
    "viz.visualize_masculinity_score_distribution(men_nlp_summaries)"
   ]
  }
 ],
 "metadata": {
  "kernelspec": {
   "display_name": "Python 3",
   "language": "python",
   "name": "python3"
  },
  "language_info": {
   "codemirror_mode": {
    "name": "ipython",
    "version": 3
   },
   "file_extension": ".py",
   "mimetype": "text/x-python",
   "name": "python",
   "nbconvert_exporter": "python",
   "pygments_lexer": "ipython3",
   "version": "3.11.3"
  }
 },
 "nbformat": 4,
 "nbformat_minor": 2
}
