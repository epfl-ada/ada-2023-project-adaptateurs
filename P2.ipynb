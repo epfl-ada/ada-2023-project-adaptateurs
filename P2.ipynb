{
 "cells": [
  {
   "cell_type": "code",
   "execution_count": null,
   "metadata": {},
   "outputs": [],
   "source": [
    "import pandas as pd\n",
    "import loader as loader\n",
    "import cleaner as cleaner\n",
    "\n",
    "%load_ext autoreload\n",
    "%autoreload 2"
   ]
  },
  {
   "cell_type": "code",
   "execution_count": null,
   "metadata": {},
   "outputs": [],
   "source": [
    "# =============== LOADER =============== #\n",
    "# Load data \n",
    "character_df, movie_df = loader.load_CMU_dataset()\n",
    "bechdel_df = loader.load_bechdel_dataset()"
   ]
  },
  {
   "cell_type": "code",
   "execution_count": null,
   "metadata": {},
   "outputs": [],
   "source": [
    "# =============== CLEANER =============== #\n",
    "# Clean datasets\n",
    "movie_df = cleaner.clean_movie_df(movie_df)\n",
    "bechdel_df = cleaner.clean_bechdel_df(bechdel_df)\n",
    "\n",
    "# Merge data \n",
    "merged_df = pd.merge(movie_df, bechdel_df, on=['movie_title', 'year'], how='left')\n",
    "merged_df = merged_df.dropna(subset=['bechdel_rating'])\n",
    "merged_df = merged_df.reset_index()\n",
    "\n",
    "# Save merged data \n",
    "merged_df.to_pickle('./data/Processed/merged_movie_bechdel.pkl')"
   ]
  },
  {
   "cell_type": "code",
   "execution_count": null,
   "metadata": {},
   "outputs": [],
   "source": [
    "# =============== ANALYSIS =============== #\n",
    "# TODO: Add analysis here"
   ]
  }
 ],
 "metadata": {
  "kernelspec": {
   "display_name": "Python 3",
   "language": "python",
   "name": "python3"
  },
  "language_info": {
   "codemirror_mode": {
    "name": "ipython",
    "version": 3
   },
   "file_extension": ".py",
   "mimetype": "text/x-python",
   "name": "python",
   "nbconvert_exporter": "python",
   "pygments_lexer": "ipython3",
   "version": "3.9.18"
  }
 },
 "nbformat": 4,
 "nbformat_minor": 2
}
